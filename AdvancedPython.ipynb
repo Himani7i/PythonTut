{
 "cells": [
  {
   "cell_type": "code",
   "execution_count": 2,
   "id": "f4af2ab7",
   "metadata": {},
   "outputs": [
    {
     "name": "stdout",
     "output_type": "stream",
     "text": [
      "1\n",
      "2\n",
      "3\n",
      "4\n",
      "5\n"
     ]
    },
    {
     "data": {
      "text/plain": [
       "list"
      ]
     },
     "execution_count": 2,
     "metadata": {},
     "output_type": "execute_result"
    }
   ],
   "source": [
    "my_list = [1,2,3,4,5]\n",
    "for i in my_list:\n",
    "    print(i)\n",
    "type(my_list)"
   ]
  },
  {
   "cell_type": "markdown",
   "id": "9f24cae1",
   "metadata": {},
   "source": [
    "Iterators allow for efficient looping and memory management, access elements sequentially without exposing the underlying structure."
   ]
  },
  {
   "cell_type": "code",
   "execution_count": 3,
   "id": "5a6a2339",
   "metadata": {},
   "outputs": [
    {
     "data": {
      "text/plain": [
       "<list_iterator at 0x2395ad94880>"
      ]
     },
     "execution_count": 3,
     "metadata": {},
     "output_type": "execute_result"
    }
   ],
   "source": [
    "#Iterator\n",
    "iterator = iter(my_list)\n",
    "iterator\n"
   ]
  },
  {
   "cell_type": "code",
   "execution_count": 7,
   "id": "e82b6752",
   "metadata": {},
   "outputs": [
    {
     "name": "stdout",
     "output_type": "stream",
     "text": [
      "<class 'list_iterator'>\n",
      "4\n"
     ]
    }
   ],
   "source": [
    "print(type(iterator))\n",
    "#Iterate through all the elements, next func\n",
    "#lazy loading:run again to get next element\n",
    "print(next(iterator))"
   ]
  },
  {
   "cell_type": "code",
   "execution_count": null,
   "id": "a7aa7099",
   "metadata": {},
   "outputs": [],
   "source": [
    "my_list = [1,2,3,4,6]\n",
    "iterator = iter(my_list)"
   ]
  },
  {
   "cell_type": "code",
   "execution_count": 24,
   "id": "5f366b20",
   "metadata": {},
   "outputs": [
    {
     "name": "stdout",
     "output_type": "stream",
     "text": [
      "No more elements to iterate.\n"
     ]
    }
   ],
   "source": [
    "try:\n",
    "    print(next(iterator))\n",
    "except StopIteration:\n",
    "    print(\"No more elements to iterate.\")"
   ]
  },
  {
   "cell_type": "code",
   "execution_count": 26,
   "id": "d3c7b075",
   "metadata": {},
   "outputs": [
    {
     "name": "stdout",
     "output_type": "stream",
     "text": [
      "H\n"
     ]
    }
   ],
   "source": [
    "#String iterator\n",
    "String = \"Hello\"\n",
    "iterator = iter(String)\n",
    "print(next(iterator))"
   ]
  },
  {
   "cell_type": "markdown",
   "id": "0c1c1fd7",
   "metadata": {},
   "source": [
    "Generators\n",
    "they use yield keyword to produce a series of vaues lazily, which means they generate values on the fly and do not store them in memory. saves a local varialbe and return to where it is defined"
   ]
  },
  {
   "cell_type": "code",
   "execution_count": 27,
   "id": "89045cf8",
   "metadata": {},
   "outputs": [],
   "source": [
    "def square(n):\n",
    "    for i in range(3):\n",
    "        yield i**2"
   ]
  },
  {
   "cell_type": "code",
   "execution_count": 31,
   "id": "cb0e5081",
   "metadata": {},
   "outputs": [],
   "source": [
    "a =square(3)"
   ]
  },
  {
   "cell_type": "code",
   "execution_count": 29,
   "id": "d95b7115",
   "metadata": {},
   "outputs": [
    {
     "name": "stdout",
     "output_type": "stream",
     "text": [
      "0\n",
      "1\n",
      "4\n"
     ]
    }
   ],
   "source": [
    "for i in square(3):\n",
    "    print(i)"
   ]
  },
  {
   "cell_type": "code",
   "execution_count": 34,
   "id": "6f66b562",
   "metadata": {},
   "outputs": [
    {
     "data": {
      "text/plain": [
       "<generator object square at 0x000002395AC7FAC0>"
      ]
     },
     "execution_count": 34,
     "metadata": {},
     "output_type": "execute_result"
    }
   ],
   "source": [
    "a"
   ]
  },
  {
   "cell_type": "code",
   "execution_count": 33,
   "id": "14e2565c",
   "metadata": {},
   "outputs": [
    {
     "data": {
      "text/plain": [
       "1"
      ]
     },
     "execution_count": 33,
     "metadata": {},
     "output_type": "execute_result"
    }
   ],
   "source": [
    "next(a)"
   ]
  },
  {
   "cell_type": "code",
   "execution_count": 50,
   "id": "c70b737f",
   "metadata": {},
   "outputs": [],
   "source": [
    "def my_generator():\n",
    "    yield 1\n",
    "    yield 2\n",
    "    yield 3\n",
    "    yield 4"
   ]
  },
  {
   "cell_type": "code",
   "execution_count": 51,
   "id": "3a8c0b94",
   "metadata": {},
   "outputs": [],
   "source": [
    "gen = my_generator()"
   ]
  },
  {
   "cell_type": "code",
   "execution_count": 52,
   "id": "f7313461",
   "metadata": {},
   "outputs": [
    {
     "data": {
      "text/plain": [
       "<generator object my_generator at 0x000002395BC8E350>"
      ]
     },
     "execution_count": 52,
     "metadata": {},
     "output_type": "execute_result"
    }
   ],
   "source": [
    "gen"
   ]
  },
  {
   "cell_type": "code",
   "execution_count": 53,
   "id": "07813276",
   "metadata": {},
   "outputs": [
    {
     "data": {
      "text/plain": [
       "1"
      ]
     },
     "execution_count": 53,
     "metadata": {},
     "output_type": "execute_result"
    }
   ],
   "source": [
    "next(gen)"
   ]
  },
  {
   "cell_type": "code",
   "execution_count": 54,
   "id": "929ad112",
   "metadata": {},
   "outputs": [
    {
     "name": "stdout",
     "output_type": "stream",
     "text": [
      "2\n",
      "3\n",
      "4\n"
     ]
    }
   ],
   "source": [
    "for val in gen:\n",
    "    print(val)"
   ]
  },
  {
   "cell_type": "markdown",
   "id": "e4796915",
   "metadata": {},
   "source": [
    "#### Practical Example of GENERATORS"
   ]
  },
  {
   "cell_type": "markdown",
   "id": "71c5a041",
   "metadata": {},
   "source": [
    "practically used for reading large files because they allow you to process one line at a time without loading the entire file into memory."
   ]
  },
  {
   "cell_type": "code",
   "execution_count": 55,
   "id": "5d8ec51b",
   "metadata": {},
   "outputs": [],
   "source": [
    "def read_large_file(file_path):\n",
    "    with open(file_path, 'r') as file:\n",
    "        for line in file:\n",
    "            yield line"
   ]
  },
  {
   "cell_type": "code",
   "execution_count": 56,
   "id": "220b05fb",
   "metadata": {},
   "outputs": [
    {
     "name": "stdout",
     "output_type": "stream",
     "text": [
      "Smt. Droupadi Murmu was sworn in as the 15th President of India on 25 July, 2022. Previously, she was the Governor of Jharkhand from 2015 to 2021. She has devoted her life to empowering the downtrodden and the marginalised sections and deepening the democratic values.\n",
      "\n",
      "Early Life and Education\n",
      "\n",
      "Born in a Santhali tribal family on 20 June, 1958 at Uparbeda village, Mayurbhanj, Odisha, Smt. Murmu’s early life was marked by hardships and struggle. On completion of primary education from the village school, she went to Bhubaneswar on her own initiative to continue her studies. She earned the degree of Bachelor of Arts from Ramadevi Women’s College, Bhubaneswar and became the first woman from her village to receive college education.\n",
      "\n",
      "Professional Career\n",
      "\n",
      "From 1979 to 1983, Smt. Murmu served as a Junior Assistant in the Irrigation and Power Department, Government of Odisha. Later, she served as an honorary teacher at Sri Aurobindo Integral Education Centre, Rairangpur, from 1994 to 1997.\n",
      "\n",
      "Public Life\n",
      "\n",
      "In 2000, Smt. Murmu was elected from the Rairangpur constituency as a Member of the Legislative Assembly of Odisha and continued to hold the post till 2009, serving two terms. During this period, she served as Minister of State (Independent Charge), Department of Commerce and Transport in the Government of Odisha from March 6, 2000 to August 6, 2002 and as Minister of State (Independent Charge), Department of Fisheries and Animal Resources Development, Government of Odisha from August 6, 2002 to May 16, 2004. In both assignments, she introduced innovative initiatives and people-oriented measures.\n",
      "\n",
      "She was also appointed a Member of various Committees including House Committees and Standing Committees of the Odisha Legislative Assembly. She also chaired some of the Committees.\n",
      "\n",
      "With her rich administrative experience and thanks to her efforts to spread education in tribal societies, she carved a special identity for herself. For her services as a legislator, she was awarded the Pandit Nilkanth Das – Best Legislator Award in 2007 by the Odisha Legislative Assembly.\n",
      "\n",
      "Governorship of Jharkhand\n",
      "\n",
      "Smt. Murmu was appointed the Governor of Jharkhand on 18 May, 2015. She was the first woman tribal Governor of a tribal-majority State, and she received wide appreciation for upholding the values of the Constitution and supporting the rights of the tribal communities. She introduced reforms in examination and recruitment processes of the State Universities. She earned respect from leaders of all political parties for her statesmanship and adherence to democratic ethos.\n",
      "\n",
      "Other Interests\n",
      "\n",
      "Smt. Murmu was associated with several tribal socio-educational and cultural organisations of Odisha.\n",
      "\n",
      "She is an avid reader and has keen interest in spirituality.\n"
     ]
    }
   ],
   "source": [
    "file_path = 'large_file.txt' \n",
    "\n",
    "for line in read_large_file(file_path):\n",
    "    print(line.strip())"
   ]
  },
  {
   "cell_type": "markdown",
   "id": "4fbc1900",
   "metadata": {},
   "source": [
    "####DECORATORS\n"
   ]
  },
  {
   "cell_type": "markdown",
   "id": "3fd1463c",
   "metadata": {},
   "source": [
    "Decorators are special functions in Python that allow you to modify or enhance the behavior of other functions or methods without changing their code. They are often used for logging, access control, timing, and more."
   ]
  },
  {
   "cell_type": "markdown",
   "id": "4ad045e0",
   "metadata": {},
   "source": [
    "#function copy\n",
    "#closures\n",
    "#decorators"
   ]
  },
  {
   "cell_type": "code",
   "execution_count": 68,
   "id": "63707107",
   "metadata": {},
   "outputs": [
    {
     "name": "stdout",
     "output_type": "stream",
     "text": [
      "Welcome to the world of Generators!\n"
     ]
    }
   ],
   "source": [
    "def welcome():\n",
    "    print(\"Welcome to the world of Generators!\")\n",
    "welcome()"
   ]
  },
  {
   "cell_type": "code",
   "execution_count": 70,
   "id": "8f190496",
   "metadata": {},
   "outputs": [
    {
     "name": "stdout",
     "output_type": "stream",
     "text": [
      "Welcome to the world of Generators!\n",
      "Welcome to the world of Generators!\n"
     ]
    }
   ],
   "source": [
    "wel = welcome\n",
    "wel()\n",
    "del welcome\n",
    "wel()"
   ]
  },
  {
   "cell_type": "code",
   "execution_count": null,
   "id": "56f1a53b",
   "metadata": {},
   "outputs": [],
   "source": [
    "# closures - method within a method\n",
    "\n",
    "def main_welcome():\n",
    "    msg = \"Welcome\"\n",
    "    def sub_welcome_method():\n",
    "        print(\"hello\")\n",
    "        print(msg)\n",
    "        print(\"LOL\")\n",
    "    return sub_welcome_method()"
   ]
  },
  {
   "cell_type": "code",
   "execution_count": 80,
   "id": "8fea2796",
   "metadata": {},
   "outputs": [
    {
     "name": "stdout",
     "output_type": "stream",
     "text": [
      "hello\n",
      "Welcome\n",
      "LOL\n"
     ]
    }
   ],
   "source": [
    "main_welcome()"
   ]
  },
  {
   "cell_type": "code",
   "execution_count": 83,
   "id": "97318e8f",
   "metadata": {},
   "outputs": [],
   "source": [
    "def main_welcome(func):\n",
    "    msg = \"Welcome\"\n",
    "    def sub_welcome_method():\n",
    "        print(\"hello\")\n",
    "        func(\"lolol\")\n",
    "        print(\"LOL\")\n",
    "    return sub_welcome_method()"
   ]
  },
  {
   "cell_type": "code",
   "execution_count": 84,
   "id": "b7179c93",
   "metadata": {},
   "outputs": [
    {
     "name": "stdout",
     "output_type": "stream",
     "text": [
      "hello\n",
      "lolol\n",
      "LOL\n"
     ]
    }
   ],
   "source": [
    "main_welcome(print)"
   ]
  },
  {
   "cell_type": "code",
   "execution_count": 85,
   "id": "613a1f78",
   "metadata": {},
   "outputs": [],
   "source": [
    "def main_welcome(func,lst):\n",
    "    msg = \"Welcome\"\n",
    "    def sub_welcome_method():\n",
    "        print(\"hello\")\n",
    "        print(func(lst))\n",
    "        print(\"LOL\")\n",
    "    return sub_welcome_method()"
   ]
  },
  {
   "cell_type": "code",
   "execution_count": 86,
   "id": "62608a09",
   "metadata": {},
   "outputs": [
    {
     "name": "stdout",
     "output_type": "stream",
     "text": [
      "hello\n",
      "5\n",
      "LOL\n"
     ]
    }
   ],
   "source": [
    "main_welcome(len,[1,2,3,4,5])"
   ]
  },
  {
   "cell_type": "code",
   "execution_count": 87,
   "id": "8c6a64e4",
   "metadata": {},
   "outputs": [],
   "source": [
    "#decorator\n",
    "def main_welcome(func):\n",
    "    msg = \"Welcome\"\n",
    "    def sub_welcome_method():\n",
    "        print(\"hello\")\n",
    "        func()\n",
    "        print(\"LOL\")\n",
    "    return sub_welcome_method()"
   ]
  },
  {
   "cell_type": "code",
   "execution_count": 88,
   "id": "ec78db67",
   "metadata": {},
   "outputs": [
    {
     "name": "stdout",
     "output_type": "stream",
     "text": [
      "this is an advanced python course\n"
     ]
    }
   ],
   "source": [
    "def course_intro():\n",
    "    print(\"this is an advanced python course\")\n",
    "course_intro()"
   ]
  },
  {
   "cell_type": "code",
   "execution_count": 89,
   "id": "e44fce0d",
   "metadata": {},
   "outputs": [
    {
     "name": "stdout",
     "output_type": "stream",
     "text": [
      "hello\n",
      "this is an advanced python course\n",
      "LOL\n"
     ]
    }
   ],
   "source": [
    "main_welcome(course_intro)"
   ]
  },
  {
   "cell_type": "code",
   "execution_count": 92,
   "id": "2c1d266d",
   "metadata": {},
   "outputs": [
    {
     "name": "stdout",
     "output_type": "stream",
     "text": [
      "hello\n",
      "this is an advanced python course\n",
      "LOL\n"
     ]
    }
   ],
   "source": [
    "@main_welcome\n",
    "def course_intro():\n",
    "    print(\"this is an advanced python course\")\n"
   ]
  },
  {
   "cell_type": "code",
   "execution_count": 93,
   "id": "6da7f828",
   "metadata": {},
   "outputs": [],
   "source": [
    "def my_deco(func):\n",
    "    def wrapper():\n",
    "        print(\"LOL\")\n",
    "        func()\n",
    "        print(\"Goodbye\")\n",
    "    return wrapper"
   ]
  },
  {
   "cell_type": "code",
   "execution_count": 94,
   "id": "0e79a0ab",
   "metadata": {},
   "outputs": [],
   "source": [
    "@my_deco\n",
    "def say_hello():\n",
    "    print(\"Hello, World!\")"
   ]
  },
  {
   "cell_type": "code",
   "execution_count": 95,
   "id": "8a55af45",
   "metadata": {},
   "outputs": [
    {
     "name": "stdout",
     "output_type": "stream",
     "text": [
      "LOL\n",
      "Hello, World!\n",
      "Goodbye\n"
     ]
    }
   ],
   "source": [
    "say_hello()"
   ]
  },
  {
   "cell_type": "code",
   "execution_count": 96,
   "id": "0c104321",
   "metadata": {},
   "outputs": [],
   "source": [
    "## decorators with arguments\n",
    "def repeat(n):\n",
    "    def decorator(func):\n",
    "        def wrapper(*args, **kwargs):\n",
    "            for _ in range(n):\n",
    "                func(*args, **kwargs)\n",
    "        return wrapper\n",
    "    return decorator"
   ]
  },
  {
   "cell_type": "code",
   "execution_count": 97,
   "id": "4b2c80ad",
   "metadata": {},
   "outputs": [],
   "source": [
    "@repeat(3)\n",
    "def say_hello():\n",
    "    print(\"Hello, World!\")"
   ]
  },
  {
   "cell_type": "code",
   "execution_count": 98,
   "id": "0cd96ac7",
   "metadata": {},
   "outputs": [
    {
     "name": "stdout",
     "output_type": "stream",
     "text": [
      "Hello, World!\n",
      "Hello, World!\n",
      "Hello, World!\n"
     ]
    }
   ],
   "source": [
    "say_hello()"
   ]
  },
  {
   "cell_type": "markdown",
   "id": "aab377e3",
   "metadata": {},
   "source": [
    "they provide a clean and readable way to modify the behavior of functions or methods. They allow you to add functionality such as logging,timing access control to existing code without modifying the original function.\n"
   ]
  }
 ],
 "metadata": {
  "kernelspec": {
   "display_name": "base",
   "language": "python",
   "name": "python3"
  },
  "language_info": {
   "codemirror_mode": {
    "name": "ipython",
    "version": 3
   },
   "file_extension": ".py",
   "mimetype": "text/x-python",
   "name": "python",
   "nbconvert_exporter": "python",
   "pygments_lexer": "ipython3",
   "version": "3.12.7"
  }
 },
 "nbformat": 4,
 "nbformat_minor": 5
}
