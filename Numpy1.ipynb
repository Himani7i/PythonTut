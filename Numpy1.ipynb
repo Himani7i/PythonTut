{
 "cells": [
  {
   "cell_type": "markdown",
   "id": "b3b9b877",
   "metadata": {},
   "source": [
    "NUMPY\n",
    "support of arrays and matrices, mathematical functions"
   ]
  },
  {
   "cell_type": "code",
   "execution_count": 2,
   "id": "d30be844",
   "metadata": {},
   "outputs": [
    {
     "name": "stdout",
     "output_type": "stream",
     "text": [
      "[1 2 3 4 5]\n",
      "(5,)\n",
      "<class 'numpy.ndarray'>\n"
     ]
    }
   ],
   "source": [
    "import numpy as np\n",
    "\n",
    "arr1 = np.array([1,2,3,4,5])\n",
    "print(arr1)\n",
    "print(arr1.shape)\n",
    "print(type(arr1))"
   ]
  },
  {
   "cell_type": "code",
   "execution_count": 6,
   "id": "62794346",
   "metadata": {},
   "outputs": [
    {
     "name": "stdout",
     "output_type": "stream",
     "text": [
      "[[1 2 3 4 5]]\n",
      "[[1 2 3 4 5]]\n",
      "(1, 5)\n",
      "<class 'numpy.ndarray'>\n"
     ]
    }
   ],
   "source": [
    "arr2 = np.array([[1,2,3,4,5]])\n",
    "arr2.reshape(1,5)\n",
    "print(arr2)\n",
    "arr2.reshape(1, -1)  # -1 allows numpy to infer the size of that dimension\n",
    "print(arr2)\n",
    "print(arr2.shape)\n",
    "print(type(arr2))"
   ]
  },
  {
   "cell_type": "code",
   "execution_count": 7,
   "id": "d253c418",
   "metadata": {},
   "outputs": [
    {
     "name": "stdout",
     "output_type": "stream",
     "text": [
      "[[1 2 3]\n",
      " [4 5 6]]\n",
      "(2, 3)\n",
      "<class 'numpy.ndarray'>\n"
     ]
    }
   ],
   "source": [
    "arr2 = np.array([[1,2,3],[4,5,6]])\n",
    "print(arr2)\n",
    "print(arr2.shape)\n",
    "print(type(arr2))"
   ]
  },
  {
   "cell_type": "code",
   "execution_count": 10,
   "id": "128e87d9",
   "metadata": {},
   "outputs": [
    {
     "data": {
      "text/plain": [
       "array([0, 2, 4, 6, 8])"
      ]
     },
     "execution_count": 10,
     "metadata": {},
     "output_type": "execute_result"
    }
   ],
   "source": [
    "np.arange(0,10,2)  # Generates an array with values from 0 to 10 with a step of 2\n"
   ]
  },
  {
   "cell_type": "code",
   "execution_count": null,
   "id": "929337f7",
   "metadata": {},
   "outputs": [
    {
     "data": {
      "text/plain": [
       "array([[0],\n",
       "       [2],\n",
       "       [4],\n",
       "       [6],\n",
       "       [8]])"
      ]
     },
     "execution_count": 11,
     "metadata": {},
     "output_type": "execute_result"
    }
   ],
   "source": [
    "np.arange(0,10,2).reshape(5,1) "
   ]
  },
  {
   "cell_type": "code",
   "execution_count": 12,
   "id": "31a00914",
   "metadata": {},
   "outputs": [
    {
     "data": {
      "text/plain": [
       "array([[1., 1., 1., 1.],\n",
       "       [1., 1., 1., 1.],\n",
       "       [1., 1., 1., 1.]])"
      ]
     },
     "execution_count": 12,
     "metadata": {},
     "output_type": "execute_result"
    }
   ],
   "source": [
    "np.ones((3,4)) # Creates a 3x4 array filled with ones"
   ]
  },
  {
   "cell_type": "code",
   "execution_count": 13,
   "id": "b9b00dad",
   "metadata": {},
   "outputs": [
    {
     "data": {
      "text/plain": [
       "array([[1., 0., 0.],\n",
       "       [0., 1., 0.],\n",
       "       [0., 0., 1.]])"
      ]
     },
     "execution_count": 13,
     "metadata": {},
     "output_type": "execute_result"
    }
   ],
   "source": [
    "##identity matrix\n",
    "np.eye(3)  # Creates a 3x3 identity matrix "
   ]
  },
  {
   "cell_type": "code",
   "execution_count": 15,
   "id": "683fb7fb",
   "metadata": {},
   "outputs": [
    {
     "name": "stdout",
     "output_type": "stream",
     "text": [
      "Array:\n",
      " [[1 2 3]\n",
      " [4 5 6]]\n",
      "Shape of the array: (2, 3)\n",
      "Type of the array: <class 'numpy.ndarray'>\n",
      "Number of dimensions: 2\n",
      "Size of the array: 6\n",
      "Data type of the array: int32\n",
      "Item size in bytes: 4\n"
     ]
    }
   ],
   "source": [
    "arr = np.array([[1,2,3], [4,5,6]])\n",
    "print(\"Array:\\n\", arr)\n",
    "print(\"Shape of the array:\", arr.shape)\n",
    "print(\"Type of the array:\", type(arr))\n",
    "print(\"Number of dimensions:\", arr.ndim)\n",
    "print(\"Size of the array:\", arr.size)\n",
    "print(\"Data type of the array:\", arr.dtype)\n",
    "print(\"Item size in bytes:\", arr.itemsize)#output:varys based on platform"
   ]
  },
  {
   "cell_type": "code",
   "execution_count": 16,
   "id": "a5c0307f",
   "metadata": {},
   "outputs": [
    {
     "name": "stdout",
     "output_type": "stream",
     "text": [
      "Sum of arrays: [11 22 33 44 55]\n",
      "Product of arrays: [ 10  40  90 160 250]\n",
      "Difference of arrays: [ -9 -18 -27 -36 -45]\n",
      "Quotient of arrays: [0.1 0.1 0.1 0.1 0.1]\n"
     ]
    }
   ],
   "source": [
    "### Numpy Vectorized operations\n",
    "arr1 = np.array([1, 2, 3, 4, 5])\n",
    "arr2 = np.array([10, 20, 30, 40, 50])\n",
    " # Element-wise \n",
    "print(\"Sum of arrays:\", arr1 + arr2)\n",
    "print(\"Product of arrays:\", arr1 * arr2)\n",
    "print(\"Difference of arrays:\", arr1 - arr2)\n",
    "print(\"Quotient of arrays:\", arr1 / arr2)"
   ]
  },
  {
   "cell_type": "code",
   "execution_count": 17,
   "id": "c6b997a0",
   "metadata": {},
   "outputs": [
    {
     "name": "stdout",
     "output_type": "stream",
     "text": [
      "Square root of arr1: [1.         1.41421356 1.73205081 2.         2.23606798]\n",
      "Exponential of arr1: [  2.71828183   7.3890561   20.08553692  54.59815003 148.4131591 ]\n",
      "Sine of arr1: [ 0.84147098  0.90929743  0.14112001 -0.7568025  -0.95892427]\n",
      "Logarithm of arr2: [2.30258509 2.99573227 3.40119738 3.68887945 3.91202301]\n"
     ]
    }
   ],
   "source": [
    "#universal functions\n",
    "print(\"Square root of arr1:\", np.sqrt(arr1))\n",
    "print(\"Exponential of arr1:\", np.exp(arr1))\n",
    "print(\"Sine of arr1:\", np.sin(arr1))\n",
    "print(\"Logarithm of arr2:\", np.log(arr2))"
   ]
  },
  {
   "cell_type": "code",
   "execution_count": 21,
   "id": "98717228",
   "metadata": {},
   "outputs": [
    {
     "name": "stdout",
     "output_type": "stream",
     "text": [
      "Original Array:\n",
      " [[ 1  2  3 10]\n",
      " [ 4  5  6 20]\n",
      " [ 7  8  9 30]]\n",
      "First row: [ 1  2  3 10]\n",
      "First column: [1 4 7]\n",
      "Last column: [10 20 30]\n",
      "Element at (1, 2): 6\n",
      "Sub-array (first two rows, first three columns):\n",
      " [[1 2 3]\n",
      " [4 5 6]]\n",
      "accessing 6 20 9 30: \n",
      " [[ 6 20]\n",
      " [ 9 30]]\n",
      "Elements greater than 5:\n",
      " [10  6 20  7  8  9 30]\n"
     ]
    }
   ],
   "source": [
    "## array slicing and indexing\n",
    "arr = np.array([[1, 2, 3, 10], [4, 5, 6, 20], [7, 8, 9, 30]])\n",
    "print(\"Original Array:\\n\", arr)\n",
    "print(\"First row:\", arr[0])\n",
    "print(\"First column:\", arr[:, 0])\n",
    "print(\"Last column:\", arr[:, -1])\n",
    "print(\"Element at (1, 2):\", arr[1, 2])\n",
    "print(\"Sub-array (first two rows, first three columns):\\n\", arr[:2, :3])\n",
    "print(\"accessing 6 20 9 30: \\n\",arr[1:,2:])\n",
    "print(\"Elements greater than 5:\\n\", arr[arr > 5])\n"
   ]
  },
  {
   "cell_type": "code",
   "execution_count": 25,
   "id": "a68d6b47",
   "metadata": {},
   "outputs": [
    {
     "name": "stdout",
     "output_type": "stream",
     "text": [
      "1\n",
      "[[ 1  2  3 10]\n",
      " [ 4  5  6 20]]\n",
      "[[ 3 10]\n",
      " [ 6 20]]\n",
      "[[5 6]\n",
      " [8 9]]\n"
     ]
    }
   ],
   "source": [
    "print(arr[0][0])\n",
    "print(arr[0:2])\n",
    "print(arr[0:2, 2:])\n",
    "print(arr[1:,1:3])"
   ]
  },
  {
   "cell_type": "code",
   "execution_count": 27,
   "id": "ba826373",
   "metadata": {},
   "outputs": [
    {
     "name": "stdout",
     "output_type": "stream",
     "text": [
      "Modified Array:\n",
      " [[100   2   3  10]\n",
      " [  4   5   6  20]\n",
      " [  7   8   9  30]]\n",
      "[[100   2   3  10]\n",
      " [100 100 100 100]\n",
      " [100 100 100 100]]\n"
     ]
    }
   ],
   "source": [
    "arr[0][0] = 100  # Modifying an element\n",
    "print(\"Modified Array:\\n\", arr)\n",
    "arr[1:] = 100\n",
    "print(arr)"
   ]
  },
  {
   "cell_type": "code",
   "execution_count": 28,
   "id": "e89d4b82",
   "metadata": {},
   "outputs": [
    {
     "name": "stdout",
     "output_type": "stream",
     "text": [
      "Normalized Data: [-1.41421356 -0.70710678  0.          0.70710678  1.41421356]\n"
     ]
    }
   ],
   "source": [
    "### statistics -- Normalization\n",
    "#to have a mean of 0 and standard deviation of 1\n",
    "data = np.array([1,2,3,4,5])\n",
    "#calculate the mean and standard deviation\n",
    "mean = np.mean(data)\n",
    "std_dev = np.std(data)\n",
    "#normalize the data\n",
    "normalized_data = (data - mean) / std_dev\n",
    "print(\"Normalized Data:\", normalized_data)\n",
    "#Output:"
   ]
  },
  {
   "cell_type": "code",
   "execution_count": 29,
   "id": "d74aa6ed",
   "metadata": {},
   "outputs": [
    {
     "name": "stdout",
     "output_type": "stream",
     "text": [
      "Original Array: [ 1  2  3  4  5  6  7  8  9 10]\n",
      "Mean: 5.5\n",
      "Standard Deviation: 2.8722813232690143\n",
      "Variance: 8.25\n",
      "Median: 5.5\n",
      "Minimum: 1\n",
      "Maximum: 10\n",
      "Sum: 55\n"
     ]
    }
   ],
   "source": [
    "arr = np.array([1,2,3,4,5,6,7,8,9,10])\n",
    "print(\"Original Array:\", arr)\n",
    "print(\"Mean:\", np.mean(arr))\n",
    "print(\"Standard Deviation:\", np.std(arr))\n",
    "print(\"Variance:\", np.var(arr))\n",
    "print(\"Median:\", np.median(arr))\n",
    "print(\"Minimum:\", np.min(arr))\n",
    "print(\"Maximum:\", np.max(arr))\n",
    "print(\"Sum:\", np.sum(arr))"
   ]
  },
  {
   "cell_type": "code",
   "execution_count": 31,
   "id": "59b387b2",
   "metadata": {},
   "outputs": [
    {
     "data": {
      "text/plain": [
       "array([6, 7, 8])"
      ]
     },
     "execution_count": 31,
     "metadata": {},
     "output_type": "execute_result"
    }
   ],
   "source": [
    "#Logical operations\n",
    "data = np.array([1, 2, 3, 4, 5, 6, 7, 8, 9, 10 ])\n",
    "data[data>5 ]\n",
    "data[(data>5) & (data < 9)] "
   ]
  },
  {
   "cell_type": "code",
   "execution_count": 6,
   "id": "10df5de5",
   "metadata": {},
   "outputs": [
    {
     "name": "stdout",
     "output_type": "stream",
     "text": [
      "(1, 3)\n",
      "<class 'numpy.ndarray'>\n",
      "2\n"
     ]
    }
   ],
   "source": [
    "x = np.array([[1,2,3]])\n",
    "print(x.shape)\n",
    "print(type(x))\n",
    "print(x.ndim)"
   ]
  },
  {
   "cell_type": "code",
   "execution_count": 10,
   "id": "d8afd945",
   "metadata": {},
   "outputs": [],
   "source": [
    "y = np.full((2,2),5)\n"
   ]
  },
  {
   "cell_type": "code",
   "execution_count": 11,
   "id": "64520dbd",
   "metadata": {},
   "outputs": [
    {
     "data": {
      "text/plain": [
       "array([[5, 5],\n",
       "       [5, 5]])"
      ]
     },
     "execution_count": 11,
     "metadata": {},
     "output_type": "execute_result"
    }
   ],
   "source": [
    "y"
   ]
  },
  {
   "cell_type": "code",
   "execution_count": 13,
   "id": "97514fef",
   "metadata": {},
   "outputs": [
    {
     "name": "stdout",
     "output_type": "stream",
     "text": [
      "[[1 2 3]\n",
      " [4 5 6]]\n",
      "Boolean Index Array:\n",
      " [[False False  True]\n",
      " [ True  True  True]]\n",
      "[3 4 5 6]\n",
      "[3 4 5 6]\n"
     ]
    }
   ],
   "source": [
    "a = np.array([[1,2,3],[4,5,6]])\n",
    "print(a)\n",
    "idx = (a > 2)  # Create a boolean index array\n",
    "print(\"Boolean Index Array:\\n\", idx)\n",
    "print(a[idx])  # Use the boolean index to filter the array\n",
    "print(a[a > 2])  # Another way to filter using boolean indexing"
   ]
  }
 ],
 "metadata": {
  "kernelspec": {
   "display_name": "base",
   "language": "python",
   "name": "python3"
  },
  "language_info": {
   "codemirror_mode": {
    "name": "ipython",
    "version": 3
   },
   "file_extension": ".py",
   "mimetype": "text/x-python",
   "name": "python",
   "nbconvert_exporter": "python",
   "pygments_lexer": "ipython3",
   "version": "3.12.7"
  }
 },
 "nbformat": 4,
 "nbformat_minor": 5
}
